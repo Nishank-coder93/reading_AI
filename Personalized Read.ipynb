{
 "cells": [
  {
   "cell_type": "code",
   "execution_count": null,
   "metadata": {
    "collapsed": true
   },
   "outputs": [],
   "source": [
    "import sys\n",
    "import requests\n",
    "import json\n",
    "import pandas as pd\n",
    "import numpy as np\n",
    "from bs4 import BeautifulSoup"
   ]
  },
  {
   "cell_type": "code",
   "execution_count": null,
   "metadata": {
    "collapsed": true,
    "scrolled": true
   },
   "outputs": [],
   "source": [
    "# Create a authentication package with Consumer key and a redirect URL\n",
    "# Will ridirect to above URL if consumer key and authentication is correct\n",
    "cons_key = 'YOUR_CONSUMER_KEY'  # Insert your consumer key here \n",
    "redir_url = 'http://www.shanklab.com' # Insert redirect URL here \n",
    "\n",
    "\n",
    "auth_params = {'consumer_key': cons_key, 'redirect_uri': redir_url}\n",
    "\n",
    "token = requests.post('https://getpocket.com/v3/oauth/request', data=auth_params)"
   ]
  },
  {
   "cell_type": "code",
   "execution_count": null,
   "metadata": {
    "collapsed": true
   },
   "outputs": [],
   "source": [
    "# Get the generated code from the request\n",
    "# The generated code is in Bytes, converted to strings to retrieve just the code \n",
    "code = str(token.content,'utf-8').split('=')[1]"
   ]
  },
  {
   "cell_type": "code",
   "execution_count": null,
   "metadata": {
    "collapsed": true
   },
   "outputs": [],
   "source": [
    "# Post the gen_html in the browser and authorize  \n",
    "# If the authorization goes well then it should redirect to your URL\n",
    "gen_html = \"https://getpocket.com/auth/authorize?request_token={0}&redirect_uri={1}\".format(code,redir_url)\n",
    "print(gen_html)"
   ]
  },
  {
   "cell_type": "code",
   "execution_count": null,
   "metadata": {
    "collapsed": true
   },
   "outputs": [],
   "source": [
    "# Send the authentication package to Pocket to authorize and access the user(you) content\n",
    "user_params = {'consumer_key': cons_key, 'code': code}\n",
    "user = requests.post('https://getpocket.com/v3/oauth/authorize', data=user_params)"
   ]
  },
  {
   "cell_type": "code",
   "execution_count": null,
   "metadata": {
    "collapsed": true
   },
   "outputs": [],
   "source": [
    "# Get the access token for current session\n",
    "tokens = str(user.content, 'utf-8').split('&')\n",
    "access_token = tokens[0].split('=')[1]"
   ]
  },
  {
   "cell_type": "code",
   "execution_count": null,
   "metadata": {
    "collapsed": true
   },
   "outputs": [],
   "source": [
    "# Perpare the parameters with session token and consumer key to request Pocket app \n",
    "# Detail Type ensures the type of data we want, Complete ensures we get the Tags as well\n",
    "params = {'consumer_key': cons_key, \n",
    "             'access_token':access_token,\n",
    "            'detailType': 'complete'\n",
    "            }"
   ]
  },
  {
   "cell_type": "code",
   "execution_count": null,
   "metadata": {
    "collapsed": true
   },
   "outputs": [],
   "source": [
    "# Finally send post request to get the data which are the stored posts url\n",
    "result = requests.post('https://getpocket.com/v3/get', data=params)"
   ]
  },
  {
   "cell_type": "code",
   "execution_count": null,
   "metadata": {
    "collapsed": true
   },
   "outputs": [],
   "source": [
    "# see the resultant text we get after request\n",
    "result.text"
   ]
  },
  {
   "cell_type": "code",
   "execution_count": null,
   "metadata": {
    "collapsed": true
   },
   "outputs": [],
   "source": [
    "# Convert the String result in JSON format to access the contents like URL and TAGS\n",
    "js_format = json.loads(result.text)\n",
    "jd_data = js_format['list']\n",
    "\n",
    "\n",
    "list_urls = []\n",
    "list_tags = []\n",
    "\n",
    "# Storing the Tags and URLs for use later by looping through values\n",
    "for data in jd_data.values():\n",
    "\n",
    "    list_urls.append(data.get('resolved_url'))\n",
    "    list_tags.append(list(data.get('tags').keys()))\n",
    "    "
   ]
  },
  {
   "cell_type": "code",
   "execution_count": null,
   "metadata": {
    "collapsed": true
   },
   "outputs": [],
   "source": [
    "# Get the 'i' and 'ni' tags for labels and append it into list with URLs\n",
    "main_list = []\n",
    "for ind in range(len(list_tags)):\n",
    "    if 'ni' in list_tags[ind]:\n",
    "        main_list.append([list_urls[ind],'ni'])\n",
    "    elif 'i' in list_tags[ind]:\n",
    "        main_list.append([list_urls[ind],'i'])"
   ]
  },
  {
   "cell_type": "code",
   "execution_count": null,
   "metadata": {
    "collapsed": true
   },
   "outputs": [],
   "source": [
    "# Make a pandas Data Frame for later use\n",
    "i_frame = pd.DataFrame(main_list, columns=['urls','interested'])"
   ]
  },
  {
   "cell_type": "code",
   "execution_count": null,
   "metadata": {
    "collapsed": true
   },
   "outputs": [],
   "source": [
    "# We have the URL but unfortunately not enough to train on, we'll need the whole article body\n",
    "i_frame.head(10)"
   ]
  },
  {
   "cell_type": "code",
   "execution_count": null,
   "metadata": {
    "collapsed": true
   },
   "outputs": [],
   "source": [
    "# This function takes in a URL and gets the content of the Article\n",
    "def get_content(url):\n",
    "    \n",
    "    \n",
    "    MERC_API_KEY = 'SOME_KEY' # Insert your API key here\n",
    "    merc_headers = {\n",
    "    'x-api-key': MERC_API_KEY,\n",
    "    }\n",
    "\n",
    "    merc_params = (\n",
    "        ('url', url),\n",
    "    )\n",
    "\n",
    "    response = requests.get('https://mercury.postlight.com/parser', headers=merc_headers, params=merc_params)\n",
    "    \n",
    "    jd_data = json.loads(response.text)\n",
    "    \n",
    "    try:\n",
    "            \n",
    "        data = [jd_data['title'],jd_data['content'],jd_data['domain'],jd_data['word_count']]\n",
    "#         print(jd_data['title'])\n",
    "    \n",
    "    except KeyError:\n",
    "        \n",
    "        data = ['', '', '', '']\n",
    "    \n",
    "    return data"
   ]
  },
  {
   "cell_type": "code",
   "execution_count": null,
   "metadata": {
    "collapsed": true
   },
   "outputs": [],
   "source": [
    "# Get all the URLs\n",
    "u_vals = i_frame['urls'].values"
   ]
  },
  {
   "cell_type": "code",
   "execution_count": 288,
   "metadata": {},
   "outputs": [
    {
     "name": "stdout",
     "output_type": "stream",
     "text": [
      "<class 'KeyError'>\n"
     ]
    },
    {
     "data": {
      "text/plain": [
       "['', '', '', '']"
      ]
     },
     "execution_count": 288,
     "metadata": {},
     "output_type": "execute_result"
    }
   ],
   "source": [
    "# Testing the function\n",
    "get_content('')"
   ]
  },
  {
   "cell_type": "code",
   "execution_count": null,
   "metadata": {
    "collapsed": true
   },
   "outputs": [],
   "source": [
    "# Get the content by passing all the URL\n",
    "df_u_vals = []\n",
    "for i in u_vals:\n",
    "    df_u_vals.append(get_content(i)) "
   ]
  },
  {
   "cell_type": "code",
   "execution_count": null,
   "metadata": {
    "collapsed": true
   },
   "outputs": [],
   "source": [
    "# Store the result in Pandas DataFrame format\n",
    "main_data = pd.DataFrame(df_u_vals, columns=['title','content','domain','word_count'])\n",
    "main_data.head(10)"
   ]
  },
  {
   "cell_type": "code",
   "execution_count": null,
   "metadata": {
    "collapsed": true
   },
   "outputs": [],
   "source": [
    "# This function retrieves the raw text from HTML body \n",
    "def get_text(html):\n",
    "    soup = BeautifulSoup(html, 'lxml')\n",
    "    text = soup.get_text()\n",
    "    return text"
   ]
  },
  {
   "cell_type": "code",
   "execution_count": null,
   "metadata": {
    "collapsed": true
   },
   "outputs": [],
   "source": [
    "# Map the get content text with above function and store it in a csv file for later use\n",
    "# main_data.loc[:,'text'] = main_data.loc[:,'content'].map(get_text)\n",
    "# main_data.to_csv(\"training_data.csv\", index=False)"
   ]
  },
  {
   "cell_type": "code",
   "execution_count": 3,
   "metadata": {},
   "outputs": [
    {
     "data": {
      "text/html": [
       "<div>\n",
       "<style>\n",
       "    .dataframe thead tr:only-child th {\n",
       "        text-align: right;\n",
       "    }\n",
       "\n",
       "    .dataframe thead th {\n",
       "        text-align: left;\n",
       "    }\n",
       "\n",
       "    .dataframe tbody tr th {\n",
       "        vertical-align: top;\n",
       "    }\n",
       "</style>\n",
       "<table border=\"1\" class=\"dataframe\">\n",
       "  <thead>\n",
       "    <tr style=\"text-align: right;\">\n",
       "      <th></th>\n",
       "      <th>title</th>\n",
       "      <th>content</th>\n",
       "      <th>domain</th>\n",
       "      <th>word_count</th>\n",
       "      <th>text</th>\n",
       "      <th>interested</th>\n",
       "    </tr>\n",
       "  </thead>\n",
       "  <tbody>\n",
       "    <tr>\n",
       "      <th>0</th>\n",
       "      <td>Starbucks Aims for More Mobile Orders</td>\n",
       "      <td>&lt;div&gt;&lt;p class=\"byline\"&gt; &lt;span&gt;By&lt;/span&gt; &lt;/p&gt;&lt;d...</td>\n",
       "      <td>www.wsj.com</td>\n",
       "      <td>54.0</td>\n",
       "      <td>By   Starbucks Corp. wants to spread its mobi...</td>\n",
       "      <td>ni</td>\n",
       "    </tr>\n",
       "    <tr>\n",
       "      <th>1</th>\n",
       "      <td>NPR Survey: Still On Facebook, But Worried</td>\n",
       "      <td>&lt;div&gt;&lt;div id=\"storytext\" class=\"storytext stor...</td>\n",
       "      <td>www.npr.org</td>\n",
       "      <td>805.0</td>\n",
       "      <td>\\n\\n\\n\\n\\n\\n\\nFacebook CEO Mark Zuckerberg wal...</td>\n",
       "      <td>i</td>\n",
       "    </tr>\n",
       "    <tr>\n",
       "      <th>2</th>\n",
       "      <td>Mat baits, hooks and destroys pollutants in wa...</td>\n",
       "      <td>&lt;div&gt;&lt;p id=\"first\" class=\"lead\"&gt;A polymer mat ...</td>\n",
       "      <td>www.sciencedaily.com</td>\n",
       "      <td>838.0</td>\n",
       "      <td>A polymer mat developed at Rice University has...</td>\n",
       "      <td>ni</td>\n",
       "    </tr>\n",
       "    <tr>\n",
       "      <th>3</th>\n",
       "      <td>How often do medical problems lead to bankruptcy?</td>\n",
       "      <td>&lt;div&gt;&lt;p id=\"first\" class=\"lead\"&gt;A team of rese...</td>\n",
       "      <td>www.sciencedaily.com</td>\n",
       "      <td>866.0</td>\n",
       "      <td>A team of researchers led by an MIT economist ...</td>\n",
       "      <td>ni</td>\n",
       "    </tr>\n",
       "    <tr>\n",
       "      <th>4</th>\n",
       "      <td>Brain-like computers moving closer to cracking...</td>\n",
       "      <td>&lt;div&gt;&lt;p id=\"first\" class=\"lead\"&gt;U.S. Army Rese...</td>\n",
       "      <td>www.sciencedaily.com</td>\n",
       "      <td>994.0</td>\n",
       "      <td>U.S. Army Research Laboratory scientists have ...</td>\n",
       "      <td>i</td>\n",
       "    </tr>\n",
       "    <tr>\n",
       "      <th>5</th>\n",
       "      <td>Reddit bans communities under policy changes t...</td>\n",
       "      <td>&lt;div&gt;&lt;section class=\"article-content blueprint...</td>\n",
       "      <td>mashable.com</td>\n",
       "      <td>422.0</td>\n",
       "      <td>\\nReddit is cracking down on community marketp...</td>\n",
       "      <td>i</td>\n",
       "    </tr>\n",
       "    <tr>\n",
       "      <th>6</th>\n",
       "      <td>Administering antibiotics through the cornea</td>\n",
       "      <td>&lt;div&gt;&lt;p id=\"first\" class=\"lead\"&gt;Researchers fr...</td>\n",
       "      <td>www.sciencedaily.com</td>\n",
       "      <td>645.0</td>\n",
       "      <td>Researchers from Valencia's UCH CEU University...</td>\n",
       "      <td>i</td>\n",
       "    </tr>\n",
       "    <tr>\n",
       "      <th>7</th>\n",
       "      <td>Don't forget: Instagram is creepy, too</td>\n",
       "      <td>&lt;div&gt;&lt;section class=\"article-content blueprint...</td>\n",
       "      <td>mashable.com</td>\n",
       "      <td>454.0</td>\n",
       "      <td>\\nSay it with me: Instagram is bad, too. \\nWit...</td>\n",
       "      <td>i</td>\n",
       "    </tr>\n",
       "    <tr>\n",
       "      <th>8</th>\n",
       "      <td>The strongest storm of 2018 is swirling in the...</td>\n",
       "      <td>&lt;div&gt;&lt;section class=\"article-content blueprint...</td>\n",
       "      <td>mashable.com</td>\n",
       "      <td>267.0</td>\n",
       "      <td>\\nThe year's first Category 5 storm has formed...</td>\n",
       "      <td>ni</td>\n",
       "    </tr>\n",
       "    <tr>\n",
       "      <th>9</th>\n",
       "      <td>Creepy AI scans a driver's face and voice to m...</td>\n",
       "      <td>&lt;div&gt;&lt;section class=\"article-content blueprint...</td>\n",
       "      <td>mashable.com</td>\n",
       "      <td>254.0</td>\n",
       "      <td>\\n\\n\\n\\nYou're being watched.\\nNo, not on Face...</td>\n",
       "      <td>i</td>\n",
       "    </tr>\n",
       "  </tbody>\n",
       "</table>\n",
       "</div>"
      ],
      "text/plain": [
       "                                               title  \\\n",
       "0              Starbucks Aims for More Mobile Orders   \n",
       "1         NPR Survey: Still On Facebook, But Worried   \n",
       "2  Mat baits, hooks and destroys pollutants in wa...   \n",
       "3  How often do medical problems lead to bankruptcy?   \n",
       "4  Brain-like computers moving closer to cracking...   \n",
       "5  Reddit bans communities under policy changes t...   \n",
       "6       Administering antibiotics through the cornea   \n",
       "7             Don't forget: Instagram is creepy, too   \n",
       "8  The strongest storm of 2018 is swirling in the...   \n",
       "9  Creepy AI scans a driver's face and voice to m...   \n",
       "\n",
       "                                             content                domain  \\\n",
       "0  <div><p class=\"byline\"> <span>By</span> </p><d...           www.wsj.com   \n",
       "1  <div><div id=\"storytext\" class=\"storytext stor...           www.npr.org   \n",
       "2  <div><p id=\"first\" class=\"lead\">A polymer mat ...  www.sciencedaily.com   \n",
       "3  <div><p id=\"first\" class=\"lead\">A team of rese...  www.sciencedaily.com   \n",
       "4  <div><p id=\"first\" class=\"lead\">U.S. Army Rese...  www.sciencedaily.com   \n",
       "5  <div><section class=\"article-content blueprint...          mashable.com   \n",
       "6  <div><p id=\"first\" class=\"lead\">Researchers fr...  www.sciencedaily.com   \n",
       "7  <div><section class=\"article-content blueprint...          mashable.com   \n",
       "8  <div><section class=\"article-content blueprint...          mashable.com   \n",
       "9  <div><section class=\"article-content blueprint...          mashable.com   \n",
       "\n",
       "   word_count                                               text interested  \n",
       "0        54.0   By   Starbucks Corp. wants to spread its mobi...         ni  \n",
       "1       805.0  \\n\\n\\n\\n\\n\\n\\nFacebook CEO Mark Zuckerberg wal...          i  \n",
       "2       838.0  A polymer mat developed at Rice University has...         ni  \n",
       "3       866.0  A team of researchers led by an MIT economist ...         ni  \n",
       "4       994.0  U.S. Army Research Laboratory scientists have ...          i  \n",
       "5       422.0  \\nReddit is cracking down on community marketp...          i  \n",
       "6       645.0  Researchers from Valencia's UCH CEU University...          i  \n",
       "7       454.0  \\nSay it with me: Instagram is bad, too. \\nWit...          i  \n",
       "8       267.0  \\nThe year's first Category 5 storm has formed...         ni  \n",
       "9       254.0  \\n\\n\\n\\nYou're being watched.\\nNo, not on Face...          i  "
      ]
     },
     "execution_count": 3,
     "metadata": {},
     "output_type": "execute_result"
    }
   ],
   "source": [
    "# Getting my already collected train data \n",
    "training_data = pd.read_csv('main_train_v2.csv')\n",
    "# training_data = training_data.dropna()\n",
    "training_data.head(10)"
   ]
  },
  {
   "cell_type": "code",
   "execution_count": null,
   "metadata": {
    "collapsed": true
   },
   "outputs": [],
   "source": [
    "# Extracting the tf-id Frequency ID Vector for our text values\n",
    "from sklearn.feature_extraction.text import TfidfVectorizer\n"
   ]
  },
  {
   "cell_type": "code",
   "execution_count": null,
   "metadata": {
    "collapsed": true
   },
   "outputs": [],
   "source": [
    "# ngram : How is the document tokenized (1 to 3 words as a token)\n",
    "# Stop words : pass all the english words to remove stop words \n",
    "# Removes words from consideration if it doesn't appear in at least three documents\n",
    "vect = TfidfVectorizer(ngram_range=(1,3),stop_words='english', min_df=3)\n",
    "tv = vect.fit_transform(training_data['text'])"
   ]
  },
  {
   "cell_type": "code",
   "execution_count": 223,
   "metadata": {},
   "outputs": [
    {
     "data": {
      "text/plain": [
       "(1075, 25163)"
      ]
     },
     "execution_count": 223,
     "metadata": {},
     "output_type": "execute_result"
    }
   ],
   "source": [
    "tv.shape"
   ]
  },
  {
   "cell_type": "code",
   "execution_count": 224,
   "metadata": {},
   "outputs": [
    {
     "data": {
      "text/plain": [
       "LinearSVC(C=1.0, class_weight=None, dual=True, fit_intercept=True,\n",
       "     intercept_scaling=1, loss='squared_hinge', max_iter=1000,\n",
       "     multi_class='ovr', penalty='l2', random_state=None, tol=0.0001,\n",
       "     verbose=0)"
      ]
     },
     "execution_count": 224,
     "metadata": {},
     "output_type": "execute_result"
    }
   ],
   "source": [
    "# Load are SVM model and fit the data\n",
    "from sklearn.svm import LinearSVC\n",
    "clf = LinearSVC()\n",
    "model = clf.fit(tv, training_data['interested'])\n",
    "model"
   ]
  },
  {
   "cell_type": "code",
   "execution_count": null,
   "metadata": {
    "collapsed": true
   },
   "outputs": [],
   "source": [
    "# Get real time data from gspeard \n",
    "import gspread\n",
    "from oauth2client.service_account import ServiceAccountCredentials\n",
    "import json"
   ]
  },
  {
   "cell_type": "code",
   "execution_count": null,
   "metadata": {
    "collapsed": true,
    "scrolled": true
   },
   "outputs": [],
   "source": [
    "# Load the JSON file after creating the app with Google developer console\n",
    "path_to_json_file = \"PATH_TO_JSON_FILE\" # insert the path to json file\n",
    "json_key = json.load(open(path_to_json_file))\n",
    "# Retrieve the client email and use that to give permission to access the Google Sheet \n",
    "# json_key['client_email']"
   ]
  },
  {
   "cell_type": "code",
   "execution_count": null,
   "metadata": {
    "collapsed": true
   },
   "outputs": [],
   "source": [
    "# Make sure to enable the Sheets and Google Drive API from Google Developer Console\n",
    "# Construct the Package to send for authorization \n",
    "scope = ['https://spreadsheets.google.com/feeds', 'https://www.googleapis.com/auth/drive']\n",
    "credentials = ServiceAccountCredentials.from_json_keyfile_name(path_to_json_file, scope)\n",
    "gc = gspread.authorize(credentials)"
   ]
  },
  {
   "cell_type": "code",
   "execution_count": null,
   "metadata": {
    "collapsed": true
   },
   "outputs": [],
   "source": [
    "# After giving access to the sheet by sharing it with Client Email retreived from above\n",
    "# Open the Sheet by giving it Sheet ID retrieved from the Sheets URL \n",
    "sheet_id = \"SHEET_ID_SHOWN_IN_URL\" # Enter your sheet id\n",
    "real_stories = gc.open_by_key(sheet_id)"
   ]
  },
  {
   "cell_type": "code",
   "execution_count": 297,
   "metadata": {},
   "outputs": [
    {
     "data": {
      "text/html": [
       "<div>\n",
       "<style>\n",
       "    .dataframe thead tr:only-child th {\n",
       "        text-align: right;\n",
       "    }\n",
       "\n",
       "    .dataframe thead th {\n",
       "        text-align: left;\n",
       "    }\n",
       "\n",
       "    .dataframe tbody tr th {\n",
       "        vertical-align: top;\n",
       "    }\n",
       "</style>\n",
       "<table border=\"1\" class=\"dataframe\">\n",
       "  <thead>\n",
       "    <tr style=\"text-align: right;\">\n",
       "      <th></th>\n",
       "      <th>DateTime</th>\n",
       "      <th>Title</th>\n",
       "      <th>URL</th>\n",
       "      <th>Body</th>\n",
       "      <th>Image URL</th>\n",
       "    </tr>\n",
       "  </thead>\n",
       "  <tbody>\n",
       "    <tr>\n",
       "      <th>0</th>\n",
       "      <td>March 31, 2018 at 11:00AM</td>\n",
       "      <td>Google needs your help finding Waldo</td>\n",
       "      <td>https://techcrunch.com/2018/03/31/google-needs...</td>\n",
       "      <td>&lt;p&gt;At some point in the not-so-distant past, A...</td>\n",
       "      <td>https://techcrunch.com/wp-content/uploads/2018...</td>\n",
       "    </tr>\n",
       "    <tr>\n",
       "      <th>1</th>\n",
       "      <td>March 31, 2018 at 11:12AM</td>\n",
       "      <td>Get ready for Hasbro's biggest Star Wars toy y...</td>\n",
       "      <td>https://www.cnet.com/news/largest-star-wars-to...</td>\n",
       "      <td>Hasbro's new HasLab campaign wants to make a h...</td>\n",
       "      <td>http://ifttt.com/images/no_image_card.png</td>\n",
       "    </tr>\n",
       "    <tr>\n",
       "      <th>2</th>\n",
       "      <td>March 31, 2018 at 11:19AM</td>\n",
       "      <td>Westworld' season 2 on HBO: Everything we know...</td>\n",
       "      <td>https://www.cnet.com/news/westworld-season-two...</td>\n",
       "      <td>Not only is the disturbing Old West theme park...</td>\n",
       "      <td>http://ifttt.com/images/no_image_card.png</td>\n",
       "    </tr>\n",
       "    <tr>\n",
       "      <th>3</th>\n",
       "      <td>March 31, 2018 at 11:30AM</td>\n",
       "      <td>Exploring a controversial net neutrality opini...</td>\n",
       "      <td>http://feedproxy.google.com/~r/TheNextWeb/~3/o...</td>\n",
       "      <td>&lt;img src=\"https://cdn0.tnwcdn.com/wp-content/b...</td>\n",
       "      <td>https://cdn0.tnwcdn.com/wp-content/blogs.dir/1...</td>\n",
       "    </tr>\n",
       "    <tr>\n",
       "      <th>4</th>\n",
       "      <td>March 31, 2018 at 11:30AM</td>\n",
       "      <td>Red Hat looks beyond Linux</td>\n",
       "      <td>https://techcrunch.com/2018/03/31/red-hat-look...</td>\n",
       "      <td>&lt;p&gt;The &lt;a href=\"https://www.redhat.com/en\"&gt;Red...</td>\n",
       "      <td>https://techcrunch.com/wp-content/uploads/2018...</td>\n",
       "    </tr>\n",
       "    <tr>\n",
       "      <th>5</th>\n",
       "      <td>March 31, 2018 at 12:00PM</td>\n",
       "      <td>The best, worst, and weirdest cars at the 2018...</td>\n",
       "      <td>https://www.theverge.com/2018/3/31/17182178/ny...</td>\n",
       "      <td>&lt;img alt=\"\" data-portal-copyright=\"Photo By Am...</td>\n",
       "      <td>https://cdn.vox-cdn.com/thumbor/nqpkGGVQ5Q2zrp...</td>\n",
       "    </tr>\n",
       "    <tr>\n",
       "      <th>6</th>\n",
       "      <td>March 31, 2018 at 12:00PM</td>\n",
       "      <td>Who gains from Facebook’s missteps?</td>\n",
       "      <td>https://techcrunch.com/2018/03/31/who-gains-fr...</td>\n",
       "      <td>&lt;p&gt;When &lt;a class=\"crunchbase-link\" href=\"https...</td>\n",
       "      <td>http://ifttt.com/images/no_image_card.png</td>\n",
       "    </tr>\n",
       "    <tr>\n",
       "      <th>7</th>\n",
       "      <td>March 31, 2018 at 12:49PM</td>\n",
       "      <td>Knitting machines power up with computer-gener...</td>\n",
       "      <td>https://techcrunch.com/2018/03/31/knitting-mac...</td>\n",
       "      <td>&lt;p&gt;At last, a use for that industrial knitting...</td>\n",
       "      <td>https://techcrunch.com/wp-content/uploads/2018...</td>\n",
       "    </tr>\n",
       "    <tr>\n",
       "      <th>8</th>\n",
       "      <td>March 31, 2018 at 12:56PM</td>\n",
       "      <td>Trump again attacks Amazon, alleging 'Post Off...</td>\n",
       "      <td>https://www.cnet.com/news/trump-again-attacks-...</td>\n",
       "      <td>The president tweets against Amazon's use of t...</td>\n",
       "      <td>http://ifttt.com/images/no_image_card.png</td>\n",
       "    </tr>\n",
       "    <tr>\n",
       "      <th>9</th>\n",
       "      <td>March 31, 2018 at 01:00PM</td>\n",
       "      <td>How an extra lens can transform your iPhone’s ...</td>\n",
       "      <td>https://www.theverge.com/circuitbreaker/2018/3...</td>\n",
       "      <td>&lt;img alt=\"\" data-portal-copyright=\"\" data-has-...</td>\n",
       "      <td>https://cdn.vox-cdn.com/thumbor/XuE-yeu8xsmQp_...</td>\n",
       "    </tr>\n",
       "  </tbody>\n",
       "</table>\n",
       "</div>"
      ],
      "text/plain": [
       "                    DateTime  \\\n",
       "0  March 31, 2018 at 11:00AM   \n",
       "1  March 31, 2018 at 11:12AM   \n",
       "2  March 31, 2018 at 11:19AM   \n",
       "3  March 31, 2018 at 11:30AM   \n",
       "4  March 31, 2018 at 11:30AM   \n",
       "5  March 31, 2018 at 12:00PM   \n",
       "6  March 31, 2018 at 12:00PM   \n",
       "7  March 31, 2018 at 12:49PM   \n",
       "8  March 31, 2018 at 12:56PM   \n",
       "9  March 31, 2018 at 01:00PM   \n",
       "\n",
       "                                               Title  \\\n",
       "0               Google needs your help finding Waldo   \n",
       "1  Get ready for Hasbro's biggest Star Wars toy y...   \n",
       "2  Westworld' season 2 on HBO: Everything we know...   \n",
       "3  Exploring a controversial net neutrality opini...   \n",
       "4                         Red Hat looks beyond Linux   \n",
       "5  The best, worst, and weirdest cars at the 2018...   \n",
       "6                Who gains from Facebook’s missteps?   \n",
       "7  Knitting machines power up with computer-gener...   \n",
       "8  Trump again attacks Amazon, alleging 'Post Off...   \n",
       "9  How an extra lens can transform your iPhone’s ...   \n",
       "\n",
       "                                                 URL  \\\n",
       "0  https://techcrunch.com/2018/03/31/google-needs...   \n",
       "1  https://www.cnet.com/news/largest-star-wars-to...   \n",
       "2  https://www.cnet.com/news/westworld-season-two...   \n",
       "3  http://feedproxy.google.com/~r/TheNextWeb/~3/o...   \n",
       "4  https://techcrunch.com/2018/03/31/red-hat-look...   \n",
       "5  https://www.theverge.com/2018/3/31/17182178/ny...   \n",
       "6  https://techcrunch.com/2018/03/31/who-gains-fr...   \n",
       "7  https://techcrunch.com/2018/03/31/knitting-mac...   \n",
       "8  https://www.cnet.com/news/trump-again-attacks-...   \n",
       "9  https://www.theverge.com/circuitbreaker/2018/3...   \n",
       "\n",
       "                                                Body  \\\n",
       "0  <p>At some point in the not-so-distant past, A...   \n",
       "1  Hasbro's new HasLab campaign wants to make a h...   \n",
       "2  Not only is the disturbing Old West theme park...   \n",
       "3  <img src=\"https://cdn0.tnwcdn.com/wp-content/b...   \n",
       "4  <p>The <a href=\"https://www.redhat.com/en\">Red...   \n",
       "5  <img alt=\"\" data-portal-copyright=\"Photo By Am...   \n",
       "6  <p>When <a class=\"crunchbase-link\" href=\"https...   \n",
       "7  <p>At last, a use for that industrial knitting...   \n",
       "8  The president tweets against Amazon's use of t...   \n",
       "9  <img alt=\"\" data-portal-copyright=\"\" data-has-...   \n",
       "\n",
       "                                           Image URL  \n",
       "0  https://techcrunch.com/wp-content/uploads/2018...  \n",
       "1          http://ifttt.com/images/no_image_card.png  \n",
       "2          http://ifttt.com/images/no_image_card.png  \n",
       "3  https://cdn0.tnwcdn.com/wp-content/blogs.dir/1...  \n",
       "4  https://techcrunch.com/wp-content/uploads/2018...  \n",
       "5  https://cdn.vox-cdn.com/thumbor/nqpkGGVQ5Q2zrp...  \n",
       "6          http://ifttt.com/images/no_image_card.png  \n",
       "7  https://techcrunch.com/wp-content/uploads/2018...  \n",
       "8          http://ifttt.com/images/no_image_card.png  \n",
       "9  https://cdn.vox-cdn.com/thumbor/XuE-yeu8xsmQp_...  "
      ]
     },
     "execution_count": 297,
     "metadata": {},
     "output_type": "execute_result"
    }
   ],
   "source": [
    "# Load the Sheet values\n",
    "sheet = real_stories.sheet1\n",
    "real_data = list(zip(sheet.col_values(1),sheet.col_values(2),sheet.col_values(3),sheet.col_values(4), sheet.col_values(5)))\n",
    "\n",
    "# Store the retrieved data into data frame \n",
    "real_time_df = pd.DataFrame(real_data, columns=['DateTime','Title','URL','Body','Image URL'])\n",
    "real_time_df.replace('',pd.np.nan, inplace=True)\n",
    "real_time_df = real_time_df.dropna()\n",
    "real_time_df.head(10)"
   ]
  },
  {
   "cell_type": "code",
   "execution_count": null,
   "metadata": {
    "collapsed": true
   },
   "outputs": [],
   "source": [
    "# sheet.clear()"
   ]
  },
  {
   "cell_type": "code",
   "execution_count": null,
   "metadata": {
    "collapsed": true
   },
   "outputs": [],
   "source": [
    "# Retrieve the body content from urls\n",
    "real_content = []\n",
    "real_ind = 0\n",
    "for url in real_time_df['URL'].values:\n",
    "    content = get_content(url)\n",
    "    \n",
    "    if content[0] == 'Forbes Welcome':\n",
    "        content[0],content[1] = real_time_df.iloc[real_ind]['Title'], real_time_df.iloc[real_ind]['Body']\n",
    "    \n",
    "    if content[0] == '':\n",
    "        content = [real_time_df.iloc[real_ind]['Title'], real_time_df.iloc[real_ind]['Body'], real_time_df.iloc[real_ind]['URL'],1]\n",
    "    \n",
    "    print(real_ind,content[0])\n",
    "    real_content.append(content)\n",
    "    real_ind += 1"
   ]
  },
  {
   "cell_type": "code",
   "execution_count": 290,
   "metadata": {},
   "outputs": [
    {
     "data": {
      "text/html": [
       "<div>\n",
       "<style>\n",
       "    .dataframe thead tr:only-child th {\n",
       "        text-align: right;\n",
       "    }\n",
       "\n",
       "    .dataframe thead th {\n",
       "        text-align: left;\n",
       "    }\n",
       "\n",
       "    .dataframe tbody tr th {\n",
       "        vertical-align: top;\n",
       "    }\n",
       "</style>\n",
       "<table border=\"1\" class=\"dataframe\">\n",
       "  <thead>\n",
       "    <tr style=\"text-align: right;\">\n",
       "      <th></th>\n",
       "      <th>title</th>\n",
       "      <th>content</th>\n",
       "      <th>domain</th>\n",
       "      <th>word_count</th>\n",
       "      <th>text</th>\n",
       "    </tr>\n",
       "  </thead>\n",
       "  <tbody>\n",
       "    <tr>\n",
       "      <th>0</th>\n",
       "      <td>Google needs your help finding Waldo</td>\n",
       "      <td>&lt;div class=\"article-content\"&gt; &lt;p&gt;At some point...</td>\n",
       "      <td>techcrunch.com</td>\n",
       "      <td>216</td>\n",
       "      <td>At some point in the not-so-distant past, Apr...</td>\n",
       "    </tr>\n",
       "    <tr>\n",
       "      <th>1</th>\n",
       "      <td>Hasbro's biggest Star Wars toy yet, Jabba's ba...</td>\n",
       "      <td>&lt;div&gt;&lt;div class=\"col-7 article-main-body row\"&gt;...</td>\n",
       "      <td>www.cnet.com</td>\n",
       "      <td>372</td>\n",
       "      <td>\\n\\n\\n\\n\\nStar Wars fans may want to make room...</td>\n",
       "    </tr>\n",
       "    <tr>\n",
       "      <th>2</th>\n",
       "      <td>'Westworld' is back: Everything we know about ...</td>\n",
       "      <td>&lt;div&gt;&lt;div class=\"col-7 article-main-body row\"&gt;...</td>\n",
       "      <td>www.cnet.com</td>\n",
       "      <td>1165</td>\n",
       "      <td>\\nReady to go back to \"Westworld\"? Just like \"...</td>\n",
       "    </tr>\n",
       "    <tr>\n",
       "      <th>3</th>\n",
       "      <td>Exploring a controversial net neutrality opini...</td>\n",
       "      <td>&lt;article class=\"post\"&gt; &lt;div class=\"post-imageB...</td>\n",
       "      <td>thenextweb.com</td>\n",
       "      <td>1</td>\n",
       "      <td>Washington recently became the nation’s...</td>\n",
       "    </tr>\n",
       "    <tr>\n",
       "      <th>4</th>\n",
       "      <td>Red Hat looks beyond Linux</td>\n",
       "      <td>&lt;div class=\"article-content\"&gt; &lt;p&gt;The &lt;a href=\"...</td>\n",
       "      <td>techcrunch.com</td>\n",
       "      <td>964</td>\n",
       "      <td>The Red Hat Linux distribution is turning 25 ...</td>\n",
       "    </tr>\n",
       "    <tr>\n",
       "      <th>5</th>\n",
       "      <td>The best, worst, and weirdest cars at the 2018...</td>\n",
       "      <td>&lt;div&gt;&lt;div class=\"c-entry-content\"&gt;\\n  &lt;p id=\"o...</td>\n",
       "      <td>www.theverge.com</td>\n",
       "      <td>1058</td>\n",
       "      <td>\\nThe New York International Auto Show opens t...</td>\n",
       "    </tr>\n",
       "    <tr>\n",
       "      <th>6</th>\n",
       "      <td>Who gains from Facebook’s missteps?</td>\n",
       "      <td>&lt;div class=\"article-content\"&gt; &lt;p&gt;When &lt;a class...</td>\n",
       "      <td>techcrunch.com</td>\n",
       "      <td>964</td>\n",
       "      <td>When Facebook  loses, who wins?\\nThat’s a que...</td>\n",
       "    </tr>\n",
       "    <tr>\n",
       "      <th>7</th>\n",
       "      <td>Knitting machines power up with computer-gener...</td>\n",
       "      <td>&lt;div class=\"article-content\"&gt; &lt;p&gt;At last, a us...</td>\n",
       "      <td>techcrunch.com</td>\n",
       "      <td>243</td>\n",
       "      <td>At last, a use for that industrial knitting m...</td>\n",
       "    </tr>\n",
       "    <tr>\n",
       "      <th>8</th>\n",
       "      <td>Trump again attacks Amazon, alleging 'Post Off...</td>\n",
       "      <td>&lt;div&gt;&lt;div class=\"col-7 article-main-body row\"&gt;...</td>\n",
       "      <td>www.cnet.com</td>\n",
       "      <td>762</td>\n",
       "      <td>\\nAmazon and its CEO, Jeff Bezos, have been fr...</td>\n",
       "    </tr>\n",
       "    <tr>\n",
       "      <th>9</th>\n",
       "      <td>How an extra lens can transform your iPhone’s ...</td>\n",
       "      <td>&lt;div&gt;&lt;div class=\"c-entry-content\"&gt;\\n  &lt;p id=\"n...</td>\n",
       "      <td>www.theverge.com</td>\n",
       "      <td>367</td>\n",
       "      <td>\\nA few years ago, the hit Sundance film Tange...</td>\n",
       "    </tr>\n",
       "  </tbody>\n",
       "</table>\n",
       "</div>"
      ],
      "text/plain": [
       "                                               title  \\\n",
       "0               Google needs your help finding Waldo   \n",
       "1  Hasbro's biggest Star Wars toy yet, Jabba's ba...   \n",
       "2  'Westworld' is back: Everything we know about ...   \n",
       "3  Exploring a controversial net neutrality opini...   \n",
       "4                         Red Hat looks beyond Linux   \n",
       "5  The best, worst, and weirdest cars at the 2018...   \n",
       "6                Who gains from Facebook’s missteps?   \n",
       "7  Knitting machines power up with computer-gener...   \n",
       "8  Trump again attacks Amazon, alleging 'Post Off...   \n",
       "9  How an extra lens can transform your iPhone’s ...   \n",
       "\n",
       "                                             content            domain  \\\n",
       "0  <div class=\"article-content\"> <p>At some point...    techcrunch.com   \n",
       "1  <div><div class=\"col-7 article-main-body row\">...      www.cnet.com   \n",
       "2  <div><div class=\"col-7 article-main-body row\">...      www.cnet.com   \n",
       "3  <article class=\"post\"> <div class=\"post-imageB...    thenextweb.com   \n",
       "4  <div class=\"article-content\"> <p>The <a href=\"...    techcrunch.com   \n",
       "5  <div><div class=\"c-entry-content\">\\n  <p id=\"o...  www.theverge.com   \n",
       "6  <div class=\"article-content\"> <p>When <a class...    techcrunch.com   \n",
       "7  <div class=\"article-content\"> <p>At last, a us...    techcrunch.com   \n",
       "8  <div><div class=\"col-7 article-main-body row\">...      www.cnet.com   \n",
       "9  <div><div class=\"c-entry-content\">\\n  <p id=\"n...  www.theverge.com   \n",
       "\n",
       "   word_count                                               text  \n",
       "0         216   At some point in the not-so-distant past, Apr...  \n",
       "1         372  \\n\\n\\n\\n\\nStar Wars fans may want to make room...  \n",
       "2        1165  \\nReady to go back to \"Westworld\"? Just like \"...  \n",
       "3           1         Washington recently became the nation’s...  \n",
       "4         964   The Red Hat Linux distribution is turning 25 ...  \n",
       "5        1058  \\nThe New York International Auto Show opens t...  \n",
       "6         964   When Facebook  loses, who wins?\\nThat’s a que...  \n",
       "7         243   At last, a use for that industrial knitting m...  \n",
       "8         762  \\nAmazon and its CEO, Jeff Bezos, have been fr...  \n",
       "9         367  \\nA few years ago, the hit Sundance film Tange...  "
      ]
     },
     "execution_count": 290,
     "metadata": {},
     "output_type": "execute_result"
    }
   ],
   "source": [
    "ret_data = pd.DataFrame(real_content, columns=['title','content','domain','word_count'])\n",
    "# ret_data.dropna(inplace=True)\n",
    "ret_data.loc[:,'text'] = ret_data.loc[:,'content'].map(get_text)\n",
    "ret_data.head(10)"
   ]
  },
  {
   "cell_type": "code",
   "execution_count": 263,
   "metadata": {},
   "outputs": [
    {
     "name": "stdout",
     "output_type": "stream",
     "text": [
      "(200, 25163)\n"
     ]
    }
   ],
   "source": [
    "# Transform the text to already trained Vectorized model of trained data\n",
    "pred_vect = vect.transform(ret_data['text'])\n",
    "print(pred_vect.shape)\n",
    "\n",
    "# Use our trained value to predict the data \n",
    "new_pred = clf.predict(pred_vect)"
   ]
  },
  {
   "cell_type": "code",
   "execution_count": 289,
   "metadata": {},
   "outputs": [
    {
     "data": {
      "text/html": [
       "<div>\n",
       "<style>\n",
       "    .dataframe thead tr:only-child th {\n",
       "        text-align: right;\n",
       "    }\n",
       "\n",
       "    .dataframe thead th {\n",
       "        text-align: left;\n",
       "    }\n",
       "\n",
       "    .dataframe tbody tr th {\n",
       "        vertical-align: top;\n",
       "    }\n",
       "</style>\n",
       "<table border=\"1\" class=\"dataframe\">\n",
       "  <thead>\n",
       "    <tr style=\"text-align: right;\">\n",
       "      <th></th>\n",
       "      <th>interested</th>\n",
       "    </tr>\n",
       "  </thead>\n",
       "  <tbody>\n",
       "    <tr>\n",
       "      <th>0</th>\n",
       "      <td>i</td>\n",
       "    </tr>\n",
       "    <tr>\n",
       "      <th>1</th>\n",
       "      <td>ni</td>\n",
       "    </tr>\n",
       "    <tr>\n",
       "      <th>2</th>\n",
       "      <td>ni</td>\n",
       "    </tr>\n",
       "    <tr>\n",
       "      <th>3</th>\n",
       "      <td>i</td>\n",
       "    </tr>\n",
       "    <tr>\n",
       "      <th>4</th>\n",
       "      <td>i</td>\n",
       "    </tr>\n",
       "  </tbody>\n",
       "</table>\n",
       "</div>"
      ],
      "text/plain": [
       "  interested\n",
       "0          i\n",
       "1         ni\n",
       "2         ni\n",
       "3          i\n",
       "4          i"
      ]
     },
     "execution_count": 289,
     "metadata": {},
     "output_type": "execute_result"
    }
   ],
   "source": [
    "new_pred = pd.DataFrame(new_pred,columns=['interested'])\n",
    "new_pred.head()"
   ]
  },
  {
   "cell_type": "code",
   "execution_count": 180,
   "metadata": {},
   "outputs": [
    {
     "data": {
      "text/plain": [
       "(484, 6)"
      ]
     },
     "execution_count": 180,
     "metadata": {},
     "output_type": "execute_result"
    }
   ],
   "source": [
    "# Get the Text value from the Body, if you wante try predicting values using body given in google sheets\n",
    "real_time_df.loc[:,'text'] = real_time_df.loc[:,'Body'].map(get_text)\n",
    "real_time_df.shape"
   ]
  },
  {
   "cell_type": "code",
   "execution_count": 291,
   "metadata": {},
   "outputs": [
    {
     "data": {
      "text/html": [
       "<div>\n",
       "<style>\n",
       "    .dataframe thead tr:only-child th {\n",
       "        text-align: right;\n",
       "    }\n",
       "\n",
       "    .dataframe thead th {\n",
       "        text-align: left;\n",
       "    }\n",
       "\n",
       "    .dataframe tbody tr th {\n",
       "        vertical-align: top;\n",
       "    }\n",
       "</style>\n",
       "<table border=\"1\" class=\"dataframe\">\n",
       "  <thead>\n",
       "    <tr style=\"text-align: right;\">\n",
       "      <th></th>\n",
       "      <th>title</th>\n",
       "      <th>content</th>\n",
       "      <th>domain</th>\n",
       "      <th>word_count</th>\n",
       "      <th>text</th>\n",
       "      <th>interested</th>\n",
       "    </tr>\n",
       "  </thead>\n",
       "  <tbody>\n",
       "    <tr>\n",
       "      <th>0</th>\n",
       "      <td>Google needs your help finding Waldo</td>\n",
       "      <td>&lt;div class=\"article-content\"&gt; &lt;p&gt;At some point...</td>\n",
       "      <td>techcrunch.com</td>\n",
       "      <td>216</td>\n",
       "      <td>At some point in the not-so-distant past, Apr...</td>\n",
       "      <td>i</td>\n",
       "    </tr>\n",
       "    <tr>\n",
       "      <th>1</th>\n",
       "      <td>Hasbro's biggest Star Wars toy yet, Jabba's ba...</td>\n",
       "      <td>&lt;div&gt;&lt;div class=\"col-7 article-main-body row\"&gt;...</td>\n",
       "      <td>www.cnet.com</td>\n",
       "      <td>372</td>\n",
       "      <td>\\n\\n\\n\\n\\nStar Wars fans may want to make room...</td>\n",
       "      <td>ni</td>\n",
       "    </tr>\n",
       "    <tr>\n",
       "      <th>2</th>\n",
       "      <td>'Westworld' is back: Everything we know about ...</td>\n",
       "      <td>&lt;div&gt;&lt;div class=\"col-7 article-main-body row\"&gt;...</td>\n",
       "      <td>www.cnet.com</td>\n",
       "      <td>1165</td>\n",
       "      <td>\\nReady to go back to \"Westworld\"? Just like \"...</td>\n",
       "      <td>ni</td>\n",
       "    </tr>\n",
       "    <tr>\n",
       "      <th>3</th>\n",
       "      <td>Exploring a controversial net neutrality opini...</td>\n",
       "      <td>&lt;article class=\"post\"&gt; &lt;div class=\"post-imageB...</td>\n",
       "      <td>thenextweb.com</td>\n",
       "      <td>1</td>\n",
       "      <td>Washington recently became the nation’s...</td>\n",
       "      <td>i</td>\n",
       "    </tr>\n",
       "    <tr>\n",
       "      <th>4</th>\n",
       "      <td>Red Hat looks beyond Linux</td>\n",
       "      <td>&lt;div class=\"article-content\"&gt; &lt;p&gt;The &lt;a href=\"...</td>\n",
       "      <td>techcrunch.com</td>\n",
       "      <td>964</td>\n",
       "      <td>The Red Hat Linux distribution is turning 25 ...</td>\n",
       "      <td>i</td>\n",
       "    </tr>\n",
       "    <tr>\n",
       "      <th>5</th>\n",
       "      <td>The best, worst, and weirdest cars at the 2018...</td>\n",
       "      <td>&lt;div&gt;&lt;div class=\"c-entry-content\"&gt;\\n  &lt;p id=\"o...</td>\n",
       "      <td>www.theverge.com</td>\n",
       "      <td>1058</td>\n",
       "      <td>\\nThe New York International Auto Show opens t...</td>\n",
       "      <td>ni</td>\n",
       "    </tr>\n",
       "    <tr>\n",
       "      <th>6</th>\n",
       "      <td>Who gains from Facebook’s missteps?</td>\n",
       "      <td>&lt;div class=\"article-content\"&gt; &lt;p&gt;When &lt;a class...</td>\n",
       "      <td>techcrunch.com</td>\n",
       "      <td>964</td>\n",
       "      <td>When Facebook  loses, who wins?\\nThat’s a que...</td>\n",
       "      <td>i</td>\n",
       "    </tr>\n",
       "    <tr>\n",
       "      <th>7</th>\n",
       "      <td>Knitting machines power up with computer-gener...</td>\n",
       "      <td>&lt;div class=\"article-content\"&gt; &lt;p&gt;At last, a us...</td>\n",
       "      <td>techcrunch.com</td>\n",
       "      <td>243</td>\n",
       "      <td>At last, a use for that industrial knitting m...</td>\n",
       "      <td>i</td>\n",
       "    </tr>\n",
       "    <tr>\n",
       "      <th>8</th>\n",
       "      <td>Trump again attacks Amazon, alleging 'Post Off...</td>\n",
       "      <td>&lt;div&gt;&lt;div class=\"col-7 article-main-body row\"&gt;...</td>\n",
       "      <td>www.cnet.com</td>\n",
       "      <td>762</td>\n",
       "      <td>\\nAmazon and its CEO, Jeff Bezos, have been fr...</td>\n",
       "      <td>ni</td>\n",
       "    </tr>\n",
       "    <tr>\n",
       "      <th>9</th>\n",
       "      <td>How an extra lens can transform your iPhone’s ...</td>\n",
       "      <td>&lt;div&gt;&lt;div class=\"c-entry-content\"&gt;\\n  &lt;p id=\"n...</td>\n",
       "      <td>www.theverge.com</td>\n",
       "      <td>367</td>\n",
       "      <td>\\nA few years ago, the hit Sundance film Tange...</td>\n",
       "      <td>ni</td>\n",
       "    </tr>\n",
       "  </tbody>\n",
       "</table>\n",
       "</div>"
      ],
      "text/plain": [
       "                                               title  \\\n",
       "0               Google needs your help finding Waldo   \n",
       "1  Hasbro's biggest Star Wars toy yet, Jabba's ba...   \n",
       "2  'Westworld' is back: Everything we know about ...   \n",
       "3  Exploring a controversial net neutrality opini...   \n",
       "4                         Red Hat looks beyond Linux   \n",
       "5  The best, worst, and weirdest cars at the 2018...   \n",
       "6                Who gains from Facebook’s missteps?   \n",
       "7  Knitting machines power up with computer-gener...   \n",
       "8  Trump again attacks Amazon, alleging 'Post Off...   \n",
       "9  How an extra lens can transform your iPhone’s ...   \n",
       "\n",
       "                                             content            domain  \\\n",
       "0  <div class=\"article-content\"> <p>At some point...    techcrunch.com   \n",
       "1  <div><div class=\"col-7 article-main-body row\">...      www.cnet.com   \n",
       "2  <div><div class=\"col-7 article-main-body row\">...      www.cnet.com   \n",
       "3  <article class=\"post\"> <div class=\"post-imageB...    thenextweb.com   \n",
       "4  <div class=\"article-content\"> <p>The <a href=\"...    techcrunch.com   \n",
       "5  <div><div class=\"c-entry-content\">\\n  <p id=\"o...  www.theverge.com   \n",
       "6  <div class=\"article-content\"> <p>When <a class...    techcrunch.com   \n",
       "7  <div class=\"article-content\"> <p>At last, a us...    techcrunch.com   \n",
       "8  <div><div class=\"col-7 article-main-body row\">...      www.cnet.com   \n",
       "9  <div><div class=\"c-entry-content\">\\n  <p id=\"n...  www.theverge.com   \n",
       "\n",
       "   word_count                                               text interested  \n",
       "0         216   At some point in the not-so-distant past, Apr...          i  \n",
       "1         372  \\n\\n\\n\\n\\nStar Wars fans may want to make room...         ni  \n",
       "2        1165  \\nReady to go back to \"Westworld\"? Just like \"...         ni  \n",
       "3           1         Washington recently became the nation’s...          i  \n",
       "4         964   The Red Hat Linux distribution is turning 25 ...          i  \n",
       "5        1058  \\nThe New York International Auto Show opens t...         ni  \n",
       "6         964   When Facebook  loses, who wins?\\nThat’s a que...          i  \n",
       "7         243   At last, a use for that industrial knitting m...          i  \n",
       "8         762  \\nAmazon and its CEO, Jeff Bezos, have been fr...         ni  \n",
       "9         367  \\nA few years ago, the hit Sundance film Tange...         ni  "
      ]
     },
     "execution_count": 291,
     "metadata": {},
     "output_type": "execute_result"
    }
   ],
   "source": [
    "pred_all_data = pd.merge(ret_data,new_pred, left_index=True,right_index=True)\n",
    "pred_all_data.head(10)"
   ]
  },
  {
   "cell_type": "code",
   "execution_count": null,
   "metadata": {
    "collapsed": true
   },
   "outputs": [],
   "source": [
    "def show_accuracy(actual_vals,pred_val):\n",
    "    \n",
    "    accuracy_lst = []\n",
    "    for i in range(len(actual_vals)):\n",
    "        if actual_vals[i] == pred_val[i]:\n",
    "            accuracy_lst.append(0)\n",
    "        else:\n",
    "            accuracy_lst.append(1)\n",
    "\n",
    "    total_items = len(actual_vals)\n",
    "    zeros = total_items - np.count_nonzero(accuracy_lst)\n",
    "    acc_percent = ( zeros / total_items ) * 100\n",
    "    print(\"Accuracy : \", acc_percent)"
   ]
  },
  {
   "cell_type": "code",
   "execution_count": 172,
   "metadata": {},
   "outputs": [
    {
     "name": "stdout",
     "output_type": "stream",
     "text": [
      "Accuracy :  63.13725490196078\n"
     ]
    }
   ],
   "source": [
    "# Accuracy was calculated using previous trained model\n",
    "actual_vals = real_time_df['Interest'].values\n",
    "show_accuracy(actual_vals,pred_val)"
   ]
  },
  {
   "cell_type": "code",
   "execution_count": 228,
   "metadata": {},
   "outputs": [
    {
     "name": "stdout",
     "output_type": "stream",
     "text": [
      "(591, 25163)\n",
      "Accuracy :  98.30795262267344\n"
     ]
    }
   ],
   "source": [
    "test_data = pd.read_csv('main_test.csv')\n",
    "test_data = test_data.dropna()\n",
    "test_tv = vect.transform(test_data['text'])\n",
    "print(test_tv.shape)\n",
    "test_pred = clf.predict(test_tv)\n",
    "show_accuracy(test_data['interested'].values,test_pred)"
   ]
  }
 ],
 "metadata": {
  "kernelspec": {
   "display_name": "Python 3",
   "language": "python",
   "name": "python3"
  },
  "language_info": {
   "codemirror_mode": {
    "name": "ipython",
    "version": 3
   },
   "file_extension": ".py",
   "mimetype": "text/x-python",
   "name": "python",
   "nbconvert_exporter": "python",
   "pygments_lexer": "ipython3",
   "version": "3.6.3"
  }
 },
 "nbformat": 4,
 "nbformat_minor": 2
}
